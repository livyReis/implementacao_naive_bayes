{
 "cells": [
  {
   "cell_type": "markdown",
   "metadata": {
    "id": "ztlb9r-R3N_S"
   },
   "source": [
    "![naive_bayes.jpg](data:image/jpeg;base64,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)"
   ]
  },
  {
   "cell_type": "markdown",
   "metadata": {
    "id": "lfm7yLre3VVP"
   },
   "source": [
    "# **Projeto**"
   ]
  },
  {
   "cell_type": "markdown",
   "metadata": {
    "id": "GjgCqpTX3ay2"
   },
   "source": [
    "**Título:** Análise da probabilidade de distúrbio mental no trabalho com uso do classificador de Naive Bayes"
   ]
  },
  {
   "cell_type": "markdown",
   "metadata": {
    "id": "-hMihwuX3iqQ"
   },
   "source": [
    "**Objetivo:**\n",
    "\n",
    "Este projeto tem como objetivo utilizar o classificador de Naive Bayes para prever a existência de colaboradores com potencial para adquirir doenças mentais, como também, realizar uma análise exploratória para identificar as principais características dos entrevistados por faixa etária, principalmente, o público Jovem, uma vez que estes estão no início de suas carreiras. Além disso, pretende-se entender como as empresas vem se comportando em relação a este tema. Pois, sabe-se que o quanto antes houver um pré-diagnóstico, ações mais assertivas podem ser tomadas para promover um ambiente de trabalho mais saudável."
   ]
  },
  {
   "cell_type": "markdown",
   "metadata": {
    "id": "eIb9XQ_dhqxk"
   },
   "source": [
    "**Dicionário dos Dados:**"
   ]
  },
  {
   "cell_type": "markdown",
   "metadata": {
    "id": "PsV4RVZkhy0b"
   },
   "source": [
    "|Atributo                 |     Dicionário                                    |\n",
    "|-------------------------|---------------------------------------------------|\n",
    "|Age                      | Idade                                             |\n",
    "|Gender                   | Gênero                                            |\n",
    "|Country                  | País                                              |\n",
    "|state                    | Estado                                            | \n",
    "|self_employed            | Você trabalha por conta própria?                  |\n",
    "|family_history           | Você tem histórico familiar de doença mental?     |\n",
    "|treatment                | Você procurou tratamento para um problema de saúde mental?                                                                       |\n",
    "|work_interfere           | Se você tem um problema de saúde mental, acha que         isso interfere no seu trabalho?                                    |\n",
    "|no_employees             | Quantos funcionários sua empresa ou organização possui?                                                                       |\n",
    "|remote_work              | Você trabalha remotamente (fora do escritório) pelo menos 50% do tempo?                                                           |\n",
    "|tech_company             | O seu empregador é principalmente uma empresa / organização de tecnologia?                                                    |\n",
    "|benefits                 | O seu empregador oferece benefícios para a saúde mental?                                                                       |\n",
    "|care_options             | Você conhece as opções de cuidados de saúde mental que seu empregador oferece?                                                   |\n",
    "|wellness_program         | Seu empregador já discutiu saúde mental como parte de um programa de bem-estar de funcionários?                                  |\n",
    "|seek_help                | Seu empregador fornece recursos para aprender mais sobre   questões de saúde mental e como procurar ajuda?                       | \n",
    "|anonymity                | O seu anonimato é protegido se você optar por tirar proveito dos recursos de tratamento de saúde mental ou abuso de substâncias?  |\n",
    "|leave                    | É fácil para você tirar uma licença médica por um problema de saúde mental?                                                     |\n",
    "|mental_health_consequence| Você acha que discutir um problema de saúde mental com seu empregador teria consequências negativas?                             |\n",
    "|phys_health_consequence  | Você acha que discutir um problema de saúde física com seu empregador teria consequências negativas?                             |\n",
    "|coworkers                | Você estaria disposto a discutir um problema de   saúde mental com seus colegas de trabalho?                                    |\n",
    "|supervisor               | Você estaria disposto a discutir um problema de saúde mental com seu (s) supervisor (es) direto (s)?                          |\n",
    "|mental_health_interview  | Você mencionaria um problema de saúde mental com um potencial empregador em uma entrevista?                                       |\n",
    "|phys_health_interview    | Você mencionaria um problema de saúde física com um potencial empregador em uma entrevista?                                       |\n",
    "|mental_vs_physical       | Você acha que seu empregador leva a saúde mental  tão a sério quanto a saúde física?                                            |\n",
    "|obs_consequence          | Você já ouviu falar ou observou consequências negativas para colegas de trabalho com problemas de saúde mental no seu local de trabalho?                                                                  |"
   ]
  },
  {
   "cell_type": "markdown",
   "metadata": {
    "id": "5H4dmduZWpFZ"
   },
   "source": [
    "**1. Importando as bibliotecas**"
   ]
  },
  {
   "cell_type": "code",
   "execution_count": 1,
   "metadata": {
    "executionInfo": {
     "elapsed": 572,
     "status": "ok",
     "timestamp": 1638784595294,
     "user": {
      "displayName": "Liviany Reis Rodrigues",
      "photoUrl": "https://lh3.googleusercontent.com/a/default-user=s64",
      "userId": "13974134542734238498"
     },
     "user_tz": 180
    },
    "id": "PRnjjTRDCqf4"
   },
   "outputs": [],
   "source": [
    "import pandas as pd\n",
    "import numpy as np\n",
    "import seaborn as sns\n",
    "import matplotlib.pyplot as plt\n",
    "import warnings as ws\n",
    "ws.filterwarnings(\"ignore\")\n",
    "import os\n",
    "import matplotlib.gridspec as gridspec\n",
    "from sklearn.model_selection import train_test_split, cross_val_score\n",
    "from sklearn.naive_bayes import BernoulliNB\n",
    "from sklearn.metrics import accuracy_score #acuracia\n",
    "from sklearn.metrics import precision_score #precision\n",
    "from sklearn.metrics import confusion_matrix,precision_recall_curve,auc,roc_auc_score,roc_curve,recall_score,classification_report "
   ]
  },
  {
   "cell_type": "code",
   "execution_count": 2,
   "metadata": {
    "executionInfo": {
     "elapsed": 22,
     "status": "ok",
     "timestamp": 1638784596325,
     "user": {
      "displayName": "Liviany Reis Rodrigues",
      "photoUrl": "https://lh3.googleusercontent.com/a/default-user=s64",
      "userId": "13974134542734238498"
     },
     "user_tz": 180
    },
    "id": "UIACjfNG54mP"
   },
   "outputs": [],
   "source": [
    "#Estilo dos gráficos\n",
    "plt.style.use('seaborn-bright')\n",
    "#Padronizando o tamanho dos gráficos \n",
    "plt.rcParams['figure.figsize'] = (5,4)\n",
    "%matplotlib inline"
   ]
  },
  {
   "cell_type": "markdown",
   "metadata": {
    "id": "01yBwsHEUUlv"
   },
   "source": [
    "**2. Lendo o Dataset**"
   ]
  },
  {
   "cell_type": "code",
   "execution_count": 3,
   "metadata": {
    "executionInfo": {
     "elapsed": 21,
     "status": "ok",
     "timestamp": 1638784596330,
     "user": {
      "displayName": "Liviany Reis Rodrigues",
      "photoUrl": "https://lh3.googleusercontent.com/a/default-user=s64",
      "userId": "13974134542734238498"
     },
     "user_tz": 180
    },
    "id": "3ilF9Hn2DG8b"
   },
   "outputs": [],
   "source": [
    "saude = pd.read_csv('saude_mental_analise_exploratoria.csv')"
   ]
  },
  {
   "cell_type": "markdown",
   "metadata": {
    "id": "KUE7aMueES13"
   },
   "source": [
    "**3. Visão Geral do Dataframe**"
   ]
  },
  {
   "cell_type": "markdown",
   "metadata": {
    "id": "lUmdWvH6UYV5"
   },
   "source": [
    "3.1 Visualizando as 05 primeiras linhas do Dataframe."
   ]
  },
  {
   "cell_type": "code",
   "execution_count": 4,
   "metadata": {
    "colab": {
     "base_uri": "https://localhost:8080/",
     "height": 313
    },
    "executionInfo": {
     "elapsed": 243,
     "status": "ok",
     "timestamp": 1638784597599,
     "user": {
      "displayName": "Liviany Reis Rodrigues",
      "photoUrl": "https://lh3.googleusercontent.com/a/default-user=s64",
      "userId": "13974134542734238498"
     },
     "user_tz": 180
    },
    "id": "ptNmIID1DatL",
    "outputId": "58b691f7-c7d8-4af2-cd14-9cfc14021bff"
   },
   "outputs": [
    {
     "data": {
      "text/html": [
       "<div>\n",
       "<style scoped>\n",
       "    .dataframe tbody tr th:only-of-type {\n",
       "        vertical-align: middle;\n",
       "    }\n",
       "\n",
       "    .dataframe tbody tr th {\n",
       "        vertical-align: top;\n",
       "    }\n",
       "\n",
       "    .dataframe thead th {\n",
       "        text-align: right;\n",
       "    }\n",
       "</style>\n",
       "<table border=\"1\" class=\"dataframe\">\n",
       "  <thead>\n",
       "    <tr style=\"text-align: right;\">\n",
       "      <th></th>\n",
       "      <th>Age</th>\n",
       "      <th>family_history</th>\n",
       "      <th>treatment</th>\n",
       "      <th>work_interfere</th>\n",
       "      <th>remote_work</th>\n",
       "      <th>tech_company</th>\n",
       "      <th>benefits</th>\n",
       "      <th>care_options</th>\n",
       "      <th>wellness_program</th>\n",
       "      <th>seek_help</th>\n",
       "      <th>anonymity</th>\n",
       "      <th>leave</th>\n",
       "      <th>mental_health_consequence</th>\n",
       "      <th>phys_health_consequence</th>\n",
       "      <th>coworkers</th>\n",
       "      <th>supervisor</th>\n",
       "      <th>mental_health_interview</th>\n",
       "      <th>phys_health_interview</th>\n",
       "      <th>mental_vs_physical</th>\n",
       "      <th>obs_consequence</th>\n",
       "      <th>Year</th>\n",
       "      <th>faixa_etaria</th>\n",
       "    </tr>\n",
       "  </thead>\n",
       "  <tbody>\n",
       "    <tr>\n",
       "      <th>0</th>\n",
       "      <td>37</td>\n",
       "      <td>No</td>\n",
       "      <td>Yes</td>\n",
       "      <td>Often</td>\n",
       "      <td>No</td>\n",
       "      <td>Yes</td>\n",
       "      <td>Yes</td>\n",
       "      <td>Not sure</td>\n",
       "      <td>No</td>\n",
       "      <td>Yes</td>\n",
       "      <td>Yes</td>\n",
       "      <td>Somewhat easy</td>\n",
       "      <td>No</td>\n",
       "      <td>No</td>\n",
       "      <td>Some of them</td>\n",
       "      <td>Yes</td>\n",
       "      <td>No</td>\n",
       "      <td>Maybe</td>\n",
       "      <td>Yes</td>\n",
       "      <td>No</td>\n",
       "      <td>2014</td>\n",
       "      <td>Adulto</td>\n",
       "    </tr>\n",
       "    <tr>\n",
       "      <th>1</th>\n",
       "      <td>44</td>\n",
       "      <td>No</td>\n",
       "      <td>No</td>\n",
       "      <td>Rarely</td>\n",
       "      <td>No</td>\n",
       "      <td>No</td>\n",
       "      <td>Don't know</td>\n",
       "      <td>No</td>\n",
       "      <td>Don't know</td>\n",
       "      <td>Don't know</td>\n",
       "      <td>Don't know</td>\n",
       "      <td>Don't know</td>\n",
       "      <td>Maybe</td>\n",
       "      <td>No</td>\n",
       "      <td>No</td>\n",
       "      <td>No</td>\n",
       "      <td>No</td>\n",
       "      <td>No</td>\n",
       "      <td>Don't know</td>\n",
       "      <td>No</td>\n",
       "      <td>2014</td>\n",
       "      <td>Adulto</td>\n",
       "    </tr>\n",
       "    <tr>\n",
       "      <th>2</th>\n",
       "      <td>32</td>\n",
       "      <td>No</td>\n",
       "      <td>No</td>\n",
       "      <td>Rarely</td>\n",
       "      <td>No</td>\n",
       "      <td>Yes</td>\n",
       "      <td>No</td>\n",
       "      <td>No</td>\n",
       "      <td>No</td>\n",
       "      <td>No</td>\n",
       "      <td>Don't know</td>\n",
       "      <td>Somewhat difficult</td>\n",
       "      <td>No</td>\n",
       "      <td>No</td>\n",
       "      <td>Yes</td>\n",
       "      <td>Yes</td>\n",
       "      <td>Yes</td>\n",
       "      <td>Yes</td>\n",
       "      <td>No</td>\n",
       "      <td>No</td>\n",
       "      <td>2014</td>\n",
       "      <td>Adulto</td>\n",
       "    </tr>\n",
       "    <tr>\n",
       "      <th>3</th>\n",
       "      <td>31</td>\n",
       "      <td>Yes</td>\n",
       "      <td>Yes</td>\n",
       "      <td>Often</td>\n",
       "      <td>No</td>\n",
       "      <td>Yes</td>\n",
       "      <td>No</td>\n",
       "      <td>Yes</td>\n",
       "      <td>No</td>\n",
       "      <td>No</td>\n",
       "      <td>No</td>\n",
       "      <td>Somewhat difficult</td>\n",
       "      <td>Yes</td>\n",
       "      <td>Yes</td>\n",
       "      <td>Some of them</td>\n",
       "      <td>No</td>\n",
       "      <td>Maybe</td>\n",
       "      <td>Maybe</td>\n",
       "      <td>No</td>\n",
       "      <td>Yes</td>\n",
       "      <td>2014</td>\n",
       "      <td>Adulto</td>\n",
       "    </tr>\n",
       "    <tr>\n",
       "      <th>4</th>\n",
       "      <td>31</td>\n",
       "      <td>No</td>\n",
       "      <td>No</td>\n",
       "      <td>Never</td>\n",
       "      <td>Yes</td>\n",
       "      <td>Yes</td>\n",
       "      <td>Yes</td>\n",
       "      <td>No</td>\n",
       "      <td>Don't know</td>\n",
       "      <td>Don't know</td>\n",
       "      <td>Don't know</td>\n",
       "      <td>Don't know</td>\n",
       "      <td>No</td>\n",
       "      <td>No</td>\n",
       "      <td>Some of them</td>\n",
       "      <td>Yes</td>\n",
       "      <td>Yes</td>\n",
       "      <td>Yes</td>\n",
       "      <td>Don't know</td>\n",
       "      <td>No</td>\n",
       "      <td>2014</td>\n",
       "      <td>Adulto</td>\n",
       "    </tr>\n",
       "  </tbody>\n",
       "</table>\n",
       "</div>"
      ],
      "text/plain": [
       "   Age family_history treatment  ... obs_consequence  Year faixa_etaria\n",
       "0   37             No       Yes  ...              No  2014       Adulto\n",
       "1   44             No        No  ...              No  2014       Adulto\n",
       "2   32             No        No  ...              No  2014       Adulto\n",
       "3   31            Yes       Yes  ...             Yes  2014       Adulto\n",
       "4   31             No        No  ...              No  2014       Adulto\n",
       "\n",
       "[5 rows x 22 columns]"
      ]
     },
     "execution_count": 4,
     "metadata": {},
     "output_type": "execute_result"
    }
   ],
   "source": [
    "saude.head()"
   ]
  },
  {
   "cell_type": "markdown",
   "metadata": {
    "id": "deGx01xvWZT9"
   },
   "source": [
    "3.2 Visualizando o número de entradas e atributos."
   ]
  },
  {
   "cell_type": "code",
   "execution_count": 5,
   "metadata": {
    "colab": {
     "base_uri": "https://localhost:8080/"
    },
    "executionInfo": {
     "elapsed": 261,
     "status": "ok",
     "timestamp": 1638784597628,
     "user": {
      "displayName": "Liviany Reis Rodrigues",
      "photoUrl": "https://lh3.googleusercontent.com/a/default-user=s64",
      "userId": "13974134542734238498"
     },
     "user_tz": 180
    },
    "id": "HN86hvW9WVl8",
    "outputId": "95146c7b-1b81-4a01-d62b-277601c81154"
   },
   "outputs": [
    {
     "data": {
      "text/plain": [
       "(1251, 22)"
      ]
     },
     "execution_count": 5,
     "metadata": {},
     "output_type": "execute_result"
    }
   ],
   "source": [
    "saude.shape"
   ]
  },
  {
   "cell_type": "markdown",
   "metadata": {
    "id": "OYRbxOCPXx_9"
   },
   "source": [
    "3.3 Visualizando as informaões do Dataframe"
   ]
  },
  {
   "cell_type": "code",
   "execution_count": 6,
   "metadata": {
    "colab": {
     "base_uri": "https://localhost:8080/"
    },
    "executionInfo": {
     "elapsed": 244,
     "status": "ok",
     "timestamp": 1638784597633,
     "user": {
      "displayName": "Liviany Reis Rodrigues",
      "photoUrl": "https://lh3.googleusercontent.com/a/default-user=s64",
      "userId": "13974134542734238498"
     },
     "user_tz": 180
    },
    "id": "adx9jouiXsXP",
    "outputId": "9f6b42c3-c548-4ecf-cb1c-dbcf1baf94ad"
   },
   "outputs": [
    {
     "name": "stdout",
     "output_type": "stream",
     "text": [
      "<class 'pandas.core.frame.DataFrame'>\n",
      "RangeIndex: 1251 entries, 0 to 1250\n",
      "Data columns (total 22 columns):\n",
      " #   Column                     Non-Null Count  Dtype \n",
      "---  ------                     --------------  ----- \n",
      " 0   Age                        1251 non-null   int64 \n",
      " 1   family_history             1251 non-null   object\n",
      " 2   treatment                  1251 non-null   object\n",
      " 3   work_interfere             1251 non-null   object\n",
      " 4   remote_work                1251 non-null   object\n",
      " 5   tech_company               1251 non-null   object\n",
      " 6   benefits                   1251 non-null   object\n",
      " 7   care_options               1251 non-null   object\n",
      " 8   wellness_program           1251 non-null   object\n",
      " 9   seek_help                  1251 non-null   object\n",
      " 10  anonymity                  1251 non-null   object\n",
      " 11  leave                      1251 non-null   object\n",
      " 12  mental_health_consequence  1251 non-null   object\n",
      " 13  phys_health_consequence    1251 non-null   object\n",
      " 14  coworkers                  1251 non-null   object\n",
      " 15  supervisor                 1251 non-null   object\n",
      " 16  mental_health_interview    1251 non-null   object\n",
      " 17  phys_health_interview      1251 non-null   object\n",
      " 18  mental_vs_physical         1251 non-null   object\n",
      " 19  obs_consequence            1251 non-null   object\n",
      " 20  Year                       1251 non-null   int64 \n",
      " 21  faixa_etaria               1251 non-null   object\n",
      "dtypes: int64(2), object(20)\n",
      "memory usage: 215.1+ KB\n"
     ]
    }
   ],
   "source": [
    "saude.info()"
   ]
  },
  {
   "cell_type": "markdown",
   "metadata": {
    "id": "rXgbF2k2EvXz"
   },
   "source": [
    "3.4 Visualizando os atribtuos categóricos"
   ]
  },
  {
   "cell_type": "code",
   "execution_count": 7,
   "metadata": {
    "colab": {
     "base_uri": "https://localhost:8080/"
    },
    "executionInfo": {
     "elapsed": 227,
     "status": "ok",
     "timestamp": 1638784597637,
     "user": {
      "displayName": "Liviany Reis Rodrigues",
      "photoUrl": "https://lh3.googleusercontent.com/a/default-user=s64",
      "userId": "13974134542734238498"
     },
     "user_tz": 180
    },
    "id": "VwkdGU9UZ7nB",
    "outputId": "acee59f2-05c6-4203-86da-a00282c038d1"
   },
   "outputs": [
    {
     "name": "stdout",
     "output_type": "stream",
     "text": [
      "Existem 20 variáveis categóricas\n",
      "\n",
      "As variáveis são :\n",
      "\n",
      " ['family_history', 'treatment', 'work_interfere', 'remote_work', 'tech_company', 'benefits', 'care_options', 'wellness_program', 'seek_help', 'anonymity', 'leave', 'mental_health_consequence', 'phys_health_consequence', 'coworkers', 'supervisor', 'mental_health_interview', 'phys_health_interview', 'mental_vs_physical', 'obs_consequence', 'faixa_etaria']\n"
     ]
    }
   ],
   "source": [
    "# Buscando variáveis categóricas\n",
    "\n",
    "categorical = [var for var in saude.columns if saude[var].dtype=='O']\n",
    "\n",
    "print('Existem {} variáveis categóricas\\n'.format(len(categorical)))\n",
    "\n",
    "print('As variáveis são :\\n\\n', categorical)"
   ]
  },
  {
   "cell_type": "markdown",
   "metadata": {
    "id": "qLGUEK3KUhKF"
   },
   "source": [
    "**4. Tratamento e Enriquecimento dos dados**"
   ]
  },
  {
   "cell_type": "markdown",
   "metadata": {
    "id": "ZqAdQwHiDZSL"
   },
   "source": [
    "4.1 Codificação das freatures categóricas"
   ]
  },
  {
   "cell_type": "code",
   "execution_count": 8,
   "metadata": {
    "executionInfo": {
     "elapsed": 207,
     "status": "ok",
     "timestamp": 1638784597640,
     "user": {
      "displayName": "Liviany Reis Rodrigues",
      "photoUrl": "https://lh3.googleusercontent.com/a/default-user=s64",
      "userId": "13974134542734238498"
     },
     "user_tz": 180
    },
    "id": "PbKbPEHGqJ8n"
   },
   "outputs": [],
   "source": [
    "from sklearn.preprocessing import LabelEncoder"
   ]
  },
  {
   "cell_type": "code",
   "execution_count": 9,
   "metadata": {
    "executionInfo": {
     "elapsed": 207,
     "status": "ok",
     "timestamp": 1638784597643,
     "user": {
      "displayName": "Liviany Reis Rodrigues",
      "photoUrl": "https://lh3.googleusercontent.com/a/default-user=s64",
      "userId": "13974134542734238498"
     },
     "user_tz": 180
    },
    "id": "1D2dTtIOFlQr"
   },
   "outputs": [],
   "source": [
    "saude_tratamento = saude.apply(LabelEncoder().fit_transform)\n"
   ]
  },
  {
   "cell_type": "markdown",
   "metadata": {
    "id": "0aQ6PWodHPVs"
   },
   "source": [
    "**5. Explorando os dados**"
   ]
  },
  {
   "cell_type": "markdown",
   "metadata": {
    "id": "_3Y9lr_38BWK"
   },
   "source": [
    "5.1 Visualizando as classes da variável alvo."
   ]
  },
  {
   "cell_type": "code",
   "execution_count": 10,
   "metadata": {
    "colab": {
     "base_uri": "https://localhost:8080/"
    },
    "executionInfo": {
     "elapsed": 213,
     "status": "ok",
     "timestamp": 1638784597651,
     "user": {
      "displayName": "Liviany Reis Rodrigues",
      "photoUrl": "https://lh3.googleusercontent.com/a/default-user=s64",
      "userId": "13974134542734238498"
     },
     "user_tz": 180
    },
    "id": "e-HsKAH94XYZ",
    "outputId": "29db17ca-51bc-4837-d996-194f93a21e8e"
   },
   "outputs": [
    {
     "name": "stdout",
     "output_type": "stream",
     "text": [
      "Recorreu a tratamento: 632\n",
      "Não recorreu a tratamento: 619\n"
     ]
    }
   ],
   "source": [
    "buscou_tratamento = len(saude_tratamento[saude_tratamento.treatment == 1]) \n",
    "Naobuscou_tratamento = len(saude_tratamento[saude_tratamento.treatment == 0])\n",
    "print('Recorreu a tratamento: {}'.format(buscou_tratamento))\n",
    "print('Não recorreu a tratamento: {}'.format(Naobuscou_tratamento))"
   ]
  },
  {
   "cell_type": "code",
   "execution_count": 11,
   "metadata": {
    "colab": {
     "base_uri": "https://localhost:8080/",
     "height": 281
    },
    "executionInfo": {
     "elapsed": 184,
     "status": "ok",
     "timestamp": 1638784597654,
     "user": {
      "displayName": "Liviany Reis Rodrigues",
      "photoUrl": "https://lh3.googleusercontent.com/a/default-user=s64",
      "userId": "13974134542734238498"
     },
     "user_tz": 180
    },
    "id": "9I-35frP5cWv",
    "outputId": "d2600ecd-62d2-4724-fb2d-8487ff4afb85"
   },
   "outputs": [
    {
     "data": {
      "image/png": "[encoded data removed]",
      "text/plain": [
       "<Figure size 432x288 with 1 Axes>"
      ]
     },
     "metadata": {
      "needs_background": "light"
     },
     "output_type": "display_data"
    }
   ],
   "source": [
    "sns.countplot(saude_tratamento.treatment)\n",
    "plt.title('Você procurou tratamento para um problema de saúde mental?')\n",
    "plt.xlabel('')\n",
    "plt.show()"
   ]
  },
  {
   "cell_type": "markdown",
   "metadata": {
    "id": "n8YLHD515sd5"
   },
   "source": [
    "5.2 Análise da Idade dos colaboradores que recorreram a Tratamento de saúde mental."
   ]
  },
  {
   "cell_type": "code",
   "execution_count": 12,
   "metadata": {
    "colab": {
     "base_uri": "https://localhost:8080/",
     "height": 295
    },
    "executionInfo": {
     "elapsed": 204,
     "status": "ok",
     "timestamp": 1638784597681,
     "user": {
      "displayName": "Liviany Reis Rodrigues",
      "photoUrl": "https://lh3.googleusercontent.com/a/default-user=s64",
      "userId": "13974134542734238498"
     },
     "user_tz": 180
    },
    "id": "FB_UaR6M6IlQ",
    "outputId": "77654537-c733-4f02-b931-a2a2cb5d951b"
   },
   "outputs": [
    {
     "data": {
      "image/png": "[encoded data removed]",
      "text/plain": [
       "<Figure size 864x288 with 2 Axes>"
      ]
     },
     "metadata": {
      "needs_background": "light"
     },
     "output_type": "display_data"
    }
   ],
   "source": [
    "f, (ax1, ax2) = plt.subplots(2, 1, sharex=True, figsize=(12,4))\n",
    "bins = 80\n",
    "\n",
    "ax1.hist(saude_tratamento.Age[saude_tratamento.treatment == 0], bins = bins)\n",
    "ax1.set_title('Não Recorreu a tratamento de saúde para problema mental')\n",
    "\n",
    "ax2.hist(saude_tratamento.Age[saude_tratamento.treatment == 1], bins = bins)\n",
    "ax2.set_title('Recorreu a tratamento de saúde para problema mental')\n",
    "\n",
    "plt.xlabel('Tratamento')\n",
    "plt.ylabel('Idade')\n",
    "plt.show()"
   ]
  },
  {
   "cell_type": "markdown",
   "metadata": {
    "id": "RxWtSumiH5S3"
   },
   "source": [
    "**6. Implementação do Classificador de Naive Bayes**"
   ]
  },
  {
   "cell_type": "code",
   "execution_count": 13,
   "metadata": {
    "executionInfo": {
     "elapsed": 200,
     "status": "ok",
     "timestamp": 1638784597685,
     "user": {
      "displayName": "Liviany Reis Rodrigues",
      "photoUrl": "https://lh3.googleusercontent.com/a/default-user=s64",
      "userId": "13974134542734238498"
     },
     "user_tz": 180
    },
    "id": "S1rs0zGHMgWP"
   },
   "outputs": [],
   "source": [
    "#Dropando os atributos não característicos\n",
    "X = saude_tratamento.drop(['treatment'], axis=1)\n",
    "#Selecionando apenas a variável alvo\n",
    "y = saude_tratamento['treatment']"
   ]
  },
  {
   "cell_type": "code",
   "execution_count": 14,
   "metadata": {
    "executionInfo": {
     "elapsed": 4342,
     "status": "ok",
     "timestamp": 1638784601831,
     "user": {
      "displayName": "Liviany Reis Rodrigues",
      "photoUrl": "https://lh3.googleusercontent.com/a/default-user=s64",
      "userId": "13974134542734238498"
     },
     "user_tz": 180
    },
    "id": "UfZiUFaYWsVg"
   },
   "outputs": [],
   "source": [
    "#Separando os dados de treinamento e teste\n",
    "X_treino, x_teste, y_treino, y_teste = train_test_split(X, y, train_size = 0.8, test_size = 0.2, random_state=42, stratify=y)"
   ]
  },
  {
   "cell_type": "code",
   "execution_count": 15,
   "metadata": {
    "colab": {
     "base_uri": "https://localhost:8080/"
    },
    "executionInfo": {
     "elapsed": 595,
     "status": "ok",
     "timestamp": 1638784601865,
     "user": {
      "displayName": "Liviany Reis Rodrigues",
      "photoUrl": "https://lh3.googleusercontent.com/a/default-user=s64",
      "userId": "13974134542734238498"
     },
     "user_tz": 180
    },
    "id": "VMFIZoebch_I",
    "outputId": "edc04c92-14d5-4ae1-fe6d-ee40d6ba611f"
   },
   "outputs": [
    {
     "data": {
      "text/plain": [
       "((1000, 21), (251, 21))"
      ]
     },
     "execution_count": 15,
     "metadata": {},
     "output_type": "execute_result"
    }
   ],
   "source": [
    "X_treino.shape, x_teste.shape"
   ]
  },
  {
   "cell_type": "code",
   "execution_count": 16,
   "metadata": {
    "executionInfo": {
     "elapsed": 570,
     "status": "ok",
     "timestamp": 1638784601869,
     "user": {
      "displayName": "Liviany Reis Rodrigues",
      "photoUrl": "https://lh3.googleusercontent.com/a/default-user=s64",
      "userId": "13974134542734238498"
     },
     "user_tz": 180
    },
    "id": "XKN1fYnDmt6F"
   },
   "outputs": [],
   "source": [
    "#Instanciando o modelo Bayseano\n",
    "risco_saude = BernoulliNB()"
   ]
  },
  {
   "cell_type": "code",
   "execution_count": 17,
   "metadata": {
    "colab": {
     "base_uri": "https://localhost:8080/"
    },
    "executionInfo": {
     "elapsed": 571,
     "status": "ok",
     "timestamp": 1638784601873,
     "user": {
      "displayName": "Liviany Reis Rodrigues",
      "photoUrl": "https://lh3.googleusercontent.com/a/default-user=s64",
      "userId": "13974134542734238498"
     },
     "user_tz": 180
    },
    "id": "DbmEz4i820GN",
    "outputId": "d330c6d3-c302-4d14-f4c7-ca325855de02"
   },
   "outputs": [
    {
     "data": {
      "text/plain": [
       "BernoulliNB()"
      ]
     },
     "execution_count": 17,
     "metadata": {},
     "output_type": "execute_result"
    }
   ],
   "source": [
    "#Treinando o modelo\n",
    "risco_saude.fit(X_treino, y_treino)"
   ]
  },
  {
   "cell_type": "code",
   "execution_count": 18,
   "metadata": {
    "executionInfo": {
     "elapsed": 578,
     "status": "ok",
     "timestamp": 1638784601901,
     "user": {
      "displayName": "Liviany Reis Rodrigues",
      "photoUrl": "https://lh3.googleusercontent.com/a/default-user=s64",
      "userId": "13974134542734238498"
     },
     "user_tz": 180
    },
    "id": "Jw_9wSuQnMbi"
   },
   "outputs": [],
   "source": [
    "#Testando o modelo\n",
    "previsao = risco_saude.predict(x_teste)"
   ]
  },
  {
   "cell_type": "code",
   "execution_count": 19,
   "metadata": {
    "colab": {
     "base_uri": "https://localhost:8080/"
    },
    "executionInfo": {
     "elapsed": 574,
     "status": "ok",
     "timestamp": 1638784601904,
     "user": {
      "displayName": "Liviany Reis Rodrigues",
      "photoUrl": "https://lh3.googleusercontent.com/a/default-user=s64",
      "userId": "13974134542734238498"
     },
     "user_tz": 180
    },
    "id": "mUVTt0Xqkox1",
    "outputId": "0a8aae71-0ab0-4bf4-a52d-20318f7ee7cc"
   },
   "outputs": [
    {
     "name": "stdout",
     "output_type": "stream",
     "text": [
      "Total de casos de testes 251, com 188 acertos e com desempenho 74.90%\n"
     ]
    }
   ],
   "source": [
    "#Calculando o desempenho\n",
    "total_teste = x_teste.shape[0]\n",
    "total_acertos = (y_teste == previsao).sum()\n",
    "desempenho = (total_acertos / total_teste ) * 100\n",
    "print('Total de casos de testes {}, com {} acertos e com desempenho {:05.2f}%'.format(total_teste, total_acertos, desempenho))\n"
   ]
  },
  {
   "cell_type": "markdown",
   "metadata": {
    "id": "odkFMIRRD5wh"
   },
   "source": [
    "**7. Análise do Desempenho do Classificador de Naive Bayes**"
   ]
  },
  {
   "cell_type": "markdown",
   "metadata": {
    "id": "_aPHA-zEGPqE"
   },
   "source": [
    "7.1 Análise da Acurácia do modelo"
   ]
  },
  {
   "cell_type": "code",
   "execution_count": 20,
   "metadata": {
    "colab": {
     "base_uri": "https://localhost:8080/"
    },
    "executionInfo": {
     "elapsed": 600,
     "status": "ok",
     "timestamp": 1638784601952,
     "user": {
      "displayName": "Liviany Reis Rodrigues",
      "photoUrl": "https://lh3.googleusercontent.com/a/default-user=s64",
      "userId": "13974134542734238498"
     },
     "user_tz": 180
    },
    "id": "Eok4lvxeFxyE",
    "outputId": "152fb216-1bf1-4c58-e481-277d862ea337"
   },
   "outputs": [
    {
     "name": "stdout",
     "output_type": "stream",
     "text": [
      "Acurácia: 0.7490\n"
     ]
    }
   ],
   "source": [
    "print('Acurácia: {0:0.4f}'. format(accuracy_score(y_teste, previsao)))"
   ]
  },
  {
   "cell_type": "markdown",
   "metadata": {
    "id": "TuqQ5M-fJ0Ch"
   },
   "source": [
    "A acurácia avalia a aplicabilidade do seu modelo, isto significa, que é possível mensurar o desempenho do modelo com uso do valor da acurácia, o quanto mais próximo de 100% melhor o resultado do modelo."
   ]
  },
  {
   "cell_type": "markdown",
   "metadata": {
    "id": "mOXt8h-dGZn5"
   },
   "source": [
    "Observe que a acurácia analisa os valores dos rótulos de classe verdadeiros com os rótulos de classe previstos no conjunto de teste."
   ]
  },
  {
   "cell_type": "markdown",
   "metadata": {
    "id": "RLqIsuyvMDGh"
   },
   "source": [
    "7.2 Comparando a precisão do conjunto de treinamento e do conjunto de teste"
   ]
  },
  {
   "cell_type": "code",
   "execution_count": 21,
   "metadata": {
    "executionInfo": {
     "elapsed": 577,
     "status": "ok",
     "timestamp": 1638784601956,
     "user": {
      "displayName": "Liviany Reis Rodrigues",
      "photoUrl": "https://lh3.googleusercontent.com/a/default-user=s64",
      "userId": "13974134542734238498"
     },
     "user_tz": 180
    },
    "id": "5_QdFwxcMSkM"
   },
   "outputs": [],
   "source": [
    "y_visao_treinameto = risco_saude.predict(X_treino)"
   ]
  },
  {
   "cell_type": "code",
   "execution_count": 22,
   "metadata": {
    "colab": {
     "base_uri": "https://localhost:8080/"
    },
    "executionInfo": {
     "elapsed": 599,
     "status": "ok",
     "timestamp": 1638784601981,
     "user": {
      "displayName": "Liviany Reis Rodrigues",
      "photoUrl": "https://lh3.googleusercontent.com/a/default-user=s64",
      "userId": "13974134542734238498"
     },
     "user_tz": 180
    },
    "id": "FG1RoDCMMiog",
    "outputId": "9deb525a-97ca-4a8e-b3af-ba04dfd83965"
   },
   "outputs": [
    {
     "name": "stdout",
     "output_type": "stream",
     "text": [
      "Acurária do Treinamento: 0.7120\n",
      "Acurácia do Teste: 0.7490\n"
     ]
    }
   ],
   "source": [
    "# Visualizando a Acurácia do Treinamento e Teste\n",
    "print('Acurária do Treinamento: {:.4f}'.format(risco_saude.score(X_treino, y_treino)))\n",
    "print('Acurácia do Teste: {:.4f}'.format(risco_saude.score(x_teste, y_teste)))"
   ]
  },
  {
   "cell_type": "markdown",
   "metadata": {
    "id": "yPhqFGGIPRdX"
   },
   "source": [
    "Observa-se que os valores da acurácia de treinamento e teste sofreram uma alteração, no entanto, a diferença não indica um sobreajuste de resultado, para ter certeza faremos a análise de precisão nula logo abaixo."
   ]
  },
  {
   "cell_type": "markdown",
   "metadata": {
    "id": "4kteO4QlQo0g"
   },
   "source": [
    "7.3 Análise da precisão Nula para verificar a eficácia do modelo."
   ]
  },
  {
   "cell_type": "markdown",
   "metadata": {
    "id": "HVAQ0YoxRvFk"
   },
   "source": [
    "A análise da precisão nula pode ser alcançada sempre prevendo a classe mais frequente. Logo, vamos, primeiramente, verificar a distribuição da classe no conjunto de teste."
   ]
  },
  {
   "cell_type": "code",
   "execution_count": 23,
   "metadata": {
    "colab": {
     "base_uri": "https://localhost:8080/"
    },
    "executionInfo": {
     "elapsed": 598,
     "status": "ok",
     "timestamp": 1638784601999,
     "user": {
      "displayName": "Liviany Reis Rodrigues",
      "photoUrl": "https://lh3.googleusercontent.com/a/default-user=s64",
      "userId": "13974134542734238498"
     },
     "user_tz": 180
    },
    "id": "wi7Dpy4dQl_k",
    "outputId": "e16afbec-f99c-48aa-aca0-d4d075540aef"
   },
   "outputs": [
    {
     "data": {
      "text/plain": [
       "1    127\n",
       "0    124\n",
       "Name: treatment, dtype: int64"
      ]
     },
     "execution_count": 23,
     "metadata": {},
     "output_type": "execute_result"
    }
   ],
   "source": [
    "y_teste.value_counts()"
   ]
  },
  {
   "cell_type": "markdown",
   "metadata": {
    "id": "yNla9FU8WtG2"
   },
   "source": [
    "Podemos ver que a ocorrência da classe mais frequente é de 190. Portanto, podemos calcular a precisão nula dividindo 190 pelo número total de ocorrências."
   ]
  },
  {
   "cell_type": "code",
   "execution_count": 24,
   "metadata": {
    "executionInfo": {
     "elapsed": 582,
     "status": "ok",
     "timestamp": 1638784602003,
     "user": {
      "displayName": "Liviany Reis Rodrigues",
      "photoUrl": "https://lh3.googleusercontent.com/a/default-user=s64",
      "userId": "13974134542734238498"
     },
     "user_tz": 180
    },
    "id": "Uyg7GTNGXDbj"
   },
   "outputs": [],
   "source": [
    "#Cálculo da precisão nula\n",
    "#Dividi-se a soma do valor de maior ocorrência com o número total de ocorrências\n",
    "precisao_nula = (127 / (127 + 124))"
   ]
  },
  {
   "cell_type": "code",
   "execution_count": 25,
   "metadata": {
    "colab": {
     "base_uri": "https://localhost:8080/"
    },
    "executionInfo": {
     "elapsed": 582,
     "status": "ok",
     "timestamp": 1638784602006,
     "user": {
      "displayName": "Liviany Reis Rodrigues",
      "photoUrl": "https://lh3.googleusercontent.com/a/default-user=s64",
      "userId": "13974134542734238498"
     },
     "user_tz": 180
    },
    "id": "dl33nF-4W_u2",
    "outputId": "23fd61c1-cb83-4ce3-f3ad-b531d5114b60"
   },
   "outputs": [
    {
     "name": "stdout",
     "output_type": "stream",
     "text": [
      "Pontuação de precisão nula:  0.5060\n"
     ]
    }
   ],
   "source": [
    "print ('Pontuação de precisão nula: {0: 0.4f}'. format(precisao_nula))"
   ]
  },
  {
   "cell_type": "markdown",
   "metadata": {
    "id": "yCeji1XOYtGh"
   },
   "source": [
    "Nosso modelo apresenta uma acurácia de 0.7314, e a pontução da precisão nula é 0.5053. Dessa forma, nosso modelo de classificação de Naive Bayes está apresentando um bom desempenho."
   ]
  },
  {
   "cell_type": "markdown",
   "metadata": {
    "id": "YyBO2fW8N6je"
   },
   "source": [
    "7.4 Análise da Matriz de Confusão"
   ]
  },
  {
   "cell_type": "markdown",
   "metadata": {
    "id": "Us8wADOvXf_j"
   },
   "source": [
    "Utilizaremos a matriz de confusão como ferramenta para interpretar a eficácia do modelo de classificação de Naive Bayes. Este recurso permitirá que tenhamos uma visão mais transparente dos possíveis erros produzidos e do desempenho do modelo de classificação. \n",
    "\n",
    "**Visão geral da Matrix de Confusão:**\n",
    "\n",
    "Resultados apresentados:\n",
    "\n",
    "**Os verdadeiros positivos (TP)** **-** os verdadeiros positivos ocorrem quando predizemos que uma observação pertence a uma determinada classe e a observação realmente pertence a essa classe.\n",
    "\n",
    "**Negativos verdadeiros (TN) -** Os negativos verdadeiros ocorrem quando predizemos que uma observação não pertence a uma determinada classe e a observação na verdade não pertence a essa classe.\n",
    "\n",
    "**Falsos positivos (FP) -** Falsos positivos ocorrem quando predizemos que uma observação pertence a uma determinada classe, mas a observação na verdade não pertence a essa classe. Este tipo de erro é denominado erro Tipo I.\n",
    "\n",
    "**Falsos negativos (FN) -** Falsos negativos ocorrem quando prevemos que uma observação não pertence a uma determinada classe, mas a observação realmente pertence a essa classe. Este é um erro muito sério e é denominado erro Tipo II.\n",
    "\n",
    "Esses quatro resultados são resumidos em uma matriz de confusão fornecida abaixo."
   ]
  },
  {
   "cell_type": "code",
   "execution_count": 26,
   "metadata": {
    "colab": {
     "base_uri": "https://localhost:8080/"
    },
    "executionInfo": {
     "elapsed": 560,
     "status": "ok",
     "timestamp": 1638784602011,
     "user": {
      "displayName": "Liviany Reis Rodrigues",
      "photoUrl": "https://lh3.googleusercontent.com/a/default-user=s64",
      "userId": "13974134542734238498"
     },
     "user_tz": 180
    },
    "id": "tBOij_yJX6Au",
    "outputId": "8b032496-73b5-405e-9891-9e6655378ac5"
   },
   "outputs": [
    {
     "name": "stdout",
     "output_type": "stream",
     "text": [
      "#### Matrix de Confusão ####\n",
      "\n",
      "Verdadeiro Positivo(TP) =  97\n",
      "\n",
      "Verdadeiro Negatives(TN) =  91\n",
      "\n",
      "Falso Positivo(FP) =  27\n",
      "\n",
      "Falso Negativo(FN) =  36\n"
     ]
    }
   ],
   "source": [
    "from sklearn.metrics import confusion_matrix\n",
    "\n",
    "cm = confusion_matrix(y_teste, previsao)\n",
    "\n",
    "print('#### Matrix de Confusão ####')\n",
    "print('\\nVerdadeiro Positivo(TP) = ', cm[0,0])\n",
    "print('\\nVerdadeiro Negatives(TN) = ', cm[1,1])\n",
    "print('\\nFalso Positivo(FP) = ', cm[0,1])\n",
    "print('\\nFalso Negativo(FN) = ', cm[1,0])"
   ]
  },
  {
   "cell_type": "code",
   "execution_count": 27,
   "metadata": {
    "colab": {
     "base_uri": "https://localhost:8080/",
     "height": 282
    },
    "executionInfo": {
     "elapsed": 544,
     "status": "ok",
     "timestamp": 1638784602014,
     "user": {
      "displayName": "Liviany Reis Rodrigues",
      "photoUrl": "https://lh3.googleusercontent.com/a/default-user=s64",
      "userId": "13974134542734238498"
     },
     "user_tz": 180
    },
    "id": "cFH45mPoXu6t",
    "outputId": "a4bf2eb2-e2fa-40e6-cb60-6d911e4a9bc1"
   },
   "outputs": [
    {
     "data": {
      "text/plain": [
       "<matplotlib.axes._subplots.AxesSubplot at 0x7fa52d19a110>"
      ]
     },
     "execution_count": 27,
     "metadata": {},
     "output_type": "execute_result"
    },
    {
     "data": {
      "image/png": "[encoded data removed]",
      "text/plain": [
       "<Figure size 432x288 with 2 Axes>"
      ]
     },
     "metadata": {
      "needs_background": "light"
     },
     "output_type": "display_data"
    }
   ],
   "source": [
    "# visualize confusion matrix with seaborn heatmap\n",
    "\n",
    "cm_matrix = pd.DataFrame(data=cm, columns=['Atual Positivo:1', 'Atual Negativo:0'], \n",
    "                                 index=['Previsto Positivo:1', 'Previsto Negative:0'])\n",
    "\n",
    "sns.heatmap(cm_matrix, annot=True, fmt='d', cmap='YlGnBu')"
   ]
  },
  {
   "cell_type": "markdown",
   "metadata": {
    "id": "8lG9LFioU3Qh"
   },
   "source": [
    "A Matrix de Confusão nos mostra uma ideia geral do desempenho do classificador, no entanto, precisamos verificar outras métricas para avaliar se nosso modelo, realmente, está cumprido com o esperado ou se está apresentando ineficácia nos resultados. Vamos recorrer ao relatório de classificão que exibe as pontuações de precisão, recall, f1 e suporte para o modelo."
   ]
  },
  {
   "cell_type": "markdown",
   "metadata": {
    "id": "aZbkk0sjDI2R"
   },
   "source": [
    "7.5 Classificação métrica do classificador"
   ]
  },
  {
   "cell_type": "markdown",
   "metadata": {
    "id": "UdFtKE5Rb1OZ"
   },
   "source": [
    "7.5.1 Relatório de Classificação"
   ]
  },
  {
   "cell_type": "code",
   "execution_count": 28,
   "metadata": {
    "colab": {
     "base_uri": "https://localhost:8080/"
    },
    "executionInfo": {
     "elapsed": 518,
     "status": "ok",
     "timestamp": 1638784602017,
     "user": {
      "displayName": "Liviany Reis Rodrigues",
      "photoUrl": "https://lh3.googleusercontent.com/a/default-user=s64",
      "userId": "13974134542734238498"
     },
     "user_tz": 180
    },
    "id": "qRAslCXCcFwZ",
    "outputId": "fd305cf8-db44-4fd5-b35e-9af01305541c"
   },
   "outputs": [
    {
     "name": "stdout",
     "output_type": "stream",
     "text": [
      "              precision    recall  f1-score   support\n",
      "\n",
      "           0       0.73      0.78      0.75       124\n",
      "           1       0.77      0.72      0.74       127\n",
      "\n",
      "    accuracy                           0.75       251\n",
      "   macro avg       0.75      0.75      0.75       251\n",
      "weighted avg       0.75      0.75      0.75       251\n",
      "\n"
     ]
    }
   ],
   "source": [
    "from sklearn.metrics import classification_report\n",
    "\n",
    "print(classification_report(y_teste, previsao))"
   ]
  },
  {
   "cell_type": "markdown",
   "metadata": {
    "id": "AlgAG19qcppL"
   },
   "source": [
    "7.5.1.1 Classificaão da Acurácia"
   ]
  },
  {
   "cell_type": "code",
   "execution_count": 29,
   "metadata": {
    "executionInfo": {
     "elapsed": 503,
     "status": "ok",
     "timestamp": 1638784602020,
     "user": {
      "displayName": "Liviany Reis Rodrigues",
      "photoUrl": "https://lh3.googleusercontent.com/a/default-user=s64",
      "userId": "13974134542734238498"
     },
     "user_tz": 180
    },
    "id": "i2tfm2Udc2if"
   },
   "outputs": [],
   "source": [
    "TP = cm[0,0]\n",
    "TN = cm[1,1]\n",
    "FP = cm[0,1]\n",
    "FN = cm[1,0]"
   ]
  },
  {
   "cell_type": "code",
   "execution_count": 30,
   "metadata": {
    "colab": {
     "base_uri": "https://localhost:8080/"
    },
    "executionInfo": {
     "elapsed": 503,
     "status": "ok",
     "timestamp": 1638784602023,
     "user": {
      "displayName": "Liviany Reis Rodrigues",
      "photoUrl": "https://lh3.googleusercontent.com/a/default-user=s64",
      "userId": "13974134542734238498"
     },
     "user_tz": 180
    },
    "id": "hM3-59SCcdD_",
    "outputId": "e8690b2d-dcd2-4820-a320-72e4aa4db23b"
   },
   "outputs": [
    {
     "name": "stdout",
     "output_type": "stream",
     "text": [
      "Classificação da Acurácia: 0.7490\n"
     ]
    }
   ],
   "source": [
    "# Visualizando a classificação da Acurácia\n",
    "classificacao_acuracia = (TP + TN) / float(TP + TN + FP + FN)\n",
    "print('Classificação da Acurácia: {0:0.4f}'.format(classificacao_acuracia))"
   ]
  },
  {
   "cell_type": "markdown",
   "metadata": {
    "id": "JVAr1CUPdNFf"
   },
   "source": [
    "7.5.1.2 Classificação do Erro"
   ]
  },
  {
   "cell_type": "code",
   "execution_count": 31,
   "metadata": {
    "colab": {
     "base_uri": "https://localhost:8080/"
    },
    "executionInfo": {
     "elapsed": 489,
     "status": "ok",
     "timestamp": 1638784602028,
     "user": {
      "displayName": "Liviany Reis Rodrigues",
      "photoUrl": "https://lh3.googleusercontent.com/a/default-user=s64",
      "userId": "13974134542734238498"
     },
     "user_tz": 180
    },
    "id": "qTV30xbOdWWc",
    "outputId": "120372bc-702c-45d6-8142-d171a07f21da"
   },
   "outputs": [
    {
     "name": "stdout",
     "output_type": "stream",
     "text": [
      "Classificação do erro: 0.2510\n"
     ]
    }
   ],
   "source": [
    "# Visualizando a classificaão do erro\n",
    "classificacao_erro = (FP + FN) / float(TP + TN + FP + FN)\n",
    "print('Classificação do erro: {0:0.4f}'.format(classificacao_erro))"
   ]
  },
  {
   "cell_type": "markdown",
   "metadata": {
    "id": "8k-Os6XKd4kd"
   },
   "source": [
    "7.5.1.3 Classificação da Precisão"
   ]
  },
  {
   "cell_type": "markdown",
   "metadata": {
    "id": "Eq7zL04KRsGb"
   },
   "source": [
    "A precisão pode ser definida como a porcentagem de resultados positivos previstos corretamente entre todos os resultados positivos previstos. A precisão identifica a proporção de resultados positivos previstos corretamente. Ele está mais preocupado com a classe positiva do que com a classe negativa."
   ]
  },
  {
   "cell_type": "markdown",
   "metadata": {
    "id": "yJ4ujzaBeJR8"
   },
   "source": [
    "A tabela de classificação de Precisão é o cálculo dos acertos do nosso modelo."
   ]
  },
  {
   "cell_type": "code",
   "execution_count": 32,
   "metadata": {
    "colab": {
     "base_uri": "https://localhost:8080/"
    },
    "executionInfo": {
     "elapsed": 469,
     "status": "ok",
     "timestamp": 1638784602031,
     "user": {
      "displayName": "Liviany Reis Rodrigues",
      "photoUrl": "https://lh3.googleusercontent.com/a/default-user=s64",
      "userId": "13974134542734238498"
     },
     "user_tz": 180
    },
    "id": "gJMZgyhQd-sj",
    "outputId": "40e1d931-2ff1-4fbb-e149-bbdee7e263c6"
   },
   "outputs": [
    {
     "name": "stdout",
     "output_type": "stream",
     "text": [
      "Precisão: 0.7823\n"
     ]
    }
   ],
   "source": [
    "# Visualizando da pontuação da Precisão\n",
    "pontuacao_precisao = TP / float(TP + FP)\n",
    "print('Precisão: {0:0.4f}'.format(pontuacao_precisao))"
   ]
  },
  {
   "cell_type": "markdown",
   "metadata": {
    "id": "DZCZC9UFe28D"
   },
   "source": [
    "7.5.1.4 Recall\n",
    "\n",
    "Essa métrica exibe a proporção de positivos reais previstos corretamente, calculando a divisão do valor dos verdadeiros positivos(TP) pela soma de verdadeiros positivos e falsos negativos (TP + FN). Essa métrica também é conhecida por sensibilidade.\n",
    "\n",
    "Recall identifica a proporção de positivos reais previstos corretamente."
   ]
  },
  {
   "cell_type": "code",
   "execution_count": 33,
   "metadata": {
    "colab": {
     "base_uri": "https://localhost:8080/"
    },
    "executionInfo": {
     "elapsed": 454,
     "status": "ok",
     "timestamp": 1638784602033,
     "user": {
      "displayName": "Liviany Reis Rodrigues",
      "photoUrl": "https://lh3.googleusercontent.com/a/default-user=s64",
      "userId": "13974134542734238498"
     },
     "user_tz": 180
    },
    "id": "NECChOGOnzHz",
    "outputId": "d38af0ac-b749-4e7b-dc17-90c93853b649"
   },
   "outputs": [
    {
     "name": "stdout",
     "output_type": "stream",
     "text": [
      "Recall ou Sensibilidade: 0.7293\n"
     ]
    }
   ],
   "source": [
    "recall = TP / float(TP + FN)\n",
    "print('Recall ou Sensibilidade: {0:0.4f}'.format(recall))"
   ]
  },
  {
   "cell_type": "markdown",
   "metadata": {
    "id": "As9Te2lcoEru"
   },
   "source": [
    "Taxa de verdadeiro positivo a taxa positiva verdadeira é sinônimo de recall."
   ]
  },
  {
   "cell_type": "code",
   "execution_count": 34,
   "metadata": {
    "colab": {
     "base_uri": "https://localhost:8080/"
    },
    "executionInfo": {
     "elapsed": 438,
     "status": "ok",
     "timestamp": 1638784602036,
     "user": {
      "displayName": "Liviany Reis Rodrigues",
      "photoUrl": "https://lh3.googleusercontent.com/a/default-user=s64",
      "userId": "13974134542734238498"
     },
     "user_tz": 180
    },
    "id": "BMNPUHWXoP3M",
    "outputId": "d39047ff-29ad-491a-dbc6-219c2f4499df"
   },
   "outputs": [
    {
     "name": "stdout",
     "output_type": "stream",
     "text": [
      "Taxa de verdadeiro Positivo: 0.7293\n"
     ]
    }
   ],
   "source": [
    "avaliar_verdadeiro_positivo = TP / float(TP + FN)\n",
    "print('Taxa de verdadeiro Positivo: {0:0.4f}'.format(avaliar_verdadeiro_positivo))"
   ]
  },
  {
   "cell_type": "markdown",
   "metadata": {
    "id": "2_fpOcv5oydO"
   },
   "source": [
    "Taxa de Falso positivo"
   ]
  },
  {
   "cell_type": "code",
   "execution_count": 35,
   "metadata": {
    "colab": {
     "base_uri": "https://localhost:8080/"
    },
    "executionInfo": {
     "elapsed": 425,
     "status": "ok",
     "timestamp": 1638784602040,
     "user": {
      "displayName": "Liviany Reis Rodrigues",
      "photoUrl": "https://lh3.googleusercontent.com/a/default-user=s64",
      "userId": "13974134542734238498"
     },
     "user_tz": 180
    },
    "id": "Gvgr6_Uln8lC",
    "outputId": "c7d5fe22-2bbc-4414-945e-5fd6160dfb3d"
   },
   "outputs": [
    {
     "name": "stdout",
     "output_type": "stream",
     "text": [
      "Taxa de Falso Positivo: 0.2288\n"
     ]
    }
   ],
   "source": [
    "taxa_falso_positivo = FP / float(FP + TN)\n",
    "print('Taxa de Falso Positivo: {0:0.4f}'.format(taxa_falso_positivo))"
   ]
  },
  {
   "cell_type": "markdown",
   "metadata": {
    "id": "QVlrNAgQpYNo"
   },
   "source": [
    "7.5.1.5 Especificity"
   ]
  },
  {
   "cell_type": "code",
   "execution_count": 36,
   "metadata": {
    "colab": {
     "base_uri": "https://localhost:8080/"
    },
    "executionInfo": {
     "elapsed": 412,
     "status": "ok",
     "timestamp": 1638784602044,
     "user": {
      "displayName": "Liviany Reis Rodrigues",
      "photoUrl": "https://lh3.googleusercontent.com/a/default-user=s64",
      "userId": "13974134542734238498"
     },
     "user_tz": 180
    },
    "id": "wmeV37FqpOW_",
    "outputId": "189f617c-899d-4cd3-bb66-7d471ba69de5"
   },
   "outputs": [
    {
     "name": "stdout",
     "output_type": "stream",
     "text": [
      "Specificity: 0.7712\n"
     ]
    }
   ],
   "source": [
    "specificity = TN / (TN + FP)\n",
    "print('Specificity: {0:0.4f}'.format(specificity))"
   ]
  },
  {
   "cell_type": "markdown",
   "metadata": {
    "id": "U6OXeIQcqhdI"
   },
   "source": [
    "7.5.1.6 F1-Score\n",
    "\n",
    "Essa média exibe  a média harmônica ponderada de precisão e recall. A melhor pontuação dessa métrica seria 1,0 e o pior seria 0,0. pontuação f1 é a média harmônica de precisão e recall. Portanto, f1-score é sempre inferior às medidas de precisão, pois incorporam precisão e recall em seus cálculos. A média ponderada da pontuação f1 deve ser usada para comparar os modelos do classificador, não a precisão global."
   ]
  },
  {
   "cell_type": "code",
   "execution_count": 37,
   "metadata": {
    "colab": {
     "base_uri": "https://localhost:8080/"
    },
    "executionInfo": {
     "elapsed": 394,
     "status": "ok",
     "timestamp": 1638784602047,
     "user": {
      "displayName": "Liviany Reis Rodrigues",
      "photoUrl": "https://lh3.googleusercontent.com/a/default-user=s64",
      "userId": "13974134542734238498"
     },
     "user_tz": 180
    },
    "id": "vj2txUreZ6i8",
    "outputId": "a5b228a9-4bde-431f-c8ac-e249b861dd1c"
   },
   "outputs": [
    {
     "name": "stdout",
     "output_type": "stream",
     "text": [
      "F1-Score: 0.742857\n"
     ]
    }
   ],
   "source": [
    "from sklearn.metrics import f1_score #f1-score\n",
    "f1 = f1_score(y_teste, previsao)\n",
    "print('F1-Score: %f' % f1)"
   ]
  },
  {
   "cell_type": "markdown",
   "metadata": {
    "id": "uG2Up9vZuVRM"
   },
   "source": [
    "7.6 Calculando a probabilidade do resultado da previsão."
   ]
  },
  {
   "cell_type": "code",
   "execution_count": 38,
   "metadata": {
    "colab": {
     "base_uri": "https://localhost:8080/"
    },
    "executionInfo": {
     "elapsed": 380,
     "status": "ok",
     "timestamp": 1638784602050,
     "user": {
      "displayName": "Liviany Reis Rodrigues",
      "photoUrl": "https://lh3.googleusercontent.com/a/default-user=s64",
      "userId": "13974134542734238498"
     },
     "user_tz": 180
    },
    "id": "w6Uer-6AufS2",
    "outputId": "964f7b7d-a64d-4c44-c000-18d127c432e2"
   },
   "outputs": [
    {
     "data": {
      "text/plain": [
       "array([[0.49673396, 0.50326604],\n",
       "       [0.39314146, 0.60685854],\n",
       "       [0.33743556, 0.66256444],\n",
       "       [0.12603824, 0.87396176],\n",
       "       [0.8180859 , 0.1819141 ],\n",
       "       [0.45500598, 0.54499402],\n",
       "       [0.95657462, 0.04342538],\n",
       "       [0.94015237, 0.05984763],\n",
       "       [0.90548193, 0.09451807],\n",
       "       [0.59112932, 0.40887068]])"
      ]
     },
     "execution_count": 38,
     "metadata": {},
     "output_type": "execute_result"
    }
   ],
   "source": [
    "probabilidade_previsao = risco_saude.predict_proba(x_teste)[0:10]\n",
    "\n",
    "probabilidade_previsao"
   ]
  },
  {
   "cell_type": "code",
   "execution_count": 39,
   "metadata": {
    "executionInfo": {
     "elapsed": 366,
     "status": "ok",
     "timestamp": 1638784602052,
     "user": {
      "displayName": "Liviany Reis Rodrigues",
      "photoUrl": "https://lh3.googleusercontent.com/a/default-user=s64",
      "userId": "13974134542734238498"
     },
     "user_tz": 180
    },
    "id": "4AAzBTKLE9ds"
   },
   "outputs": [],
   "source": [
    "for i in range(len(probabilidade_previsao)):\n",
    "  df_prob_previsao = pd.DataFrame(data=np.float_(probabilidade_previsao[0:,0:]), columns=['Nao_Possui_Problema_Mental','Possui_Problema_Mental'])"
   ]
  },
  {
   "cell_type": "code",
   "execution_count": 40,
   "metadata": {
    "colab": {
     "base_uri": "https://localhost:8080/"
    },
    "executionInfo": {
     "elapsed": 366,
     "status": "ok",
     "timestamp": 1638784602055,
     "user": {
      "displayName": "Liviany Reis Rodrigues",
      "photoUrl": "https://lh3.googleusercontent.com/a/default-user=s64",
      "userId": "13974134542734238498"
     },
     "user_tz": 180
    },
    "id": "mhHQj6LBMSMC",
    "outputId": "cf3e2615-a207-4b63-8daf-f9ce020b3c90"
   },
   "outputs": [
    {
     "name": "stdout",
     "output_type": "stream",
     "text": [
      "##########   Tabela de Probabilidade   ##########\n",
      "   Nao_Possui_Problema_Mental  Possui_Problema_Mental\n",
      "0                    0.496734                0.503266\n",
      "1                    0.393141                0.606859\n",
      "2                    0.337436                0.662564\n",
      "3                    0.126038                0.873962\n",
      "4                    0.818086                0.181914\n",
      "5                    0.455006                0.544994\n",
      "6                    0.956575                0.043425\n",
      "7                    0.940152                0.059848\n",
      "8                    0.905482                0.094518\n",
      "9                    0.591129                0.408871\n"
     ]
    }
   ],
   "source": [
    "print('##########   Tabela de Probabilidade   ##########')\n",
    "print(df_prob_previsao.to_string())"
   ]
  },
  {
   "cell_type": "markdown",
   "metadata": {
    "id": "z2JQoOL-lnNu"
   },
   "source": [
    "Visualiando a média das previsões para cada classe."
   ]
  },
  {
   "cell_type": "code",
   "execution_count": 41,
   "metadata": {
    "colab": {
     "base_uri": "https://localhost:8080/"
    },
    "executionInfo": {
     "elapsed": 354,
     "status": "ok",
     "timestamp": 1638784602061,
     "user": {
      "displayName": "Liviany Reis Rodrigues",
      "photoUrl": "https://lh3.googleusercontent.com/a/default-user=s64",
      "userId": "13974134542734238498"
     },
     "user_tz": 180
    },
    "id": "dNahrK9TSbcL",
    "outputId": "af2f94b3-be78-4043-ff76-b27885f73390"
   },
   "outputs": [
    {
     "data": {
      "text/plain": [
       "Nao_Possui_Problema_Mental    0.601978\n",
       "Possui_Problema_Mental        0.398022\n",
       "dtype: float64"
      ]
     },
     "execution_count": 41,
     "metadata": {},
     "output_type": "execute_result"
    }
   ],
   "source": [
    "df_prob_previsao.mean()"
   ]
  },
  {
   "cell_type": "code",
   "execution_count": 42,
   "metadata": {
    "colab": {
     "base_uri": "https://localhost:8080/"
    },
    "executionInfo": {
     "elapsed": 338,
     "status": "ok",
     "timestamp": 1638784602064,
     "user": {
      "displayName": "Liviany Reis Rodrigues",
      "photoUrl": "https://lh3.googleusercontent.com/a/default-user=s64",
      "userId": "13974134542734238498"
     },
     "user_tz": 180
    },
    "id": "RVrlXimTWgVY",
    "outputId": "8cbb2a1e-8487-4a05-e973-e868d3f104eb"
   },
   "outputs": [
    {
     "data": {
      "text/plain": [
       "array([0.50326604, 0.60685854, 0.66256444, 0.87396176, 0.1819141 ,\n",
       "       0.54499402, 0.04342538, 0.05984763, 0.09451807, 0.40887068])"
      ]
     },
     "execution_count": 42,
     "metadata": {},
     "output_type": "execute_result"
    }
   ],
   "source": [
    "# Visualizar as probabilidade de 10 precisões de Possuir Problema Mental\n",
    "risco_saude.predict_proba(x_teste)[0:10, 1]"
   ]
  },
  {
   "cell_type": "code",
   "execution_count": 43,
   "metadata": {
    "executionInfo": {
     "elapsed": 323,
     "status": "ok",
     "timestamp": 1638784602067,
     "user": {
      "displayName": "Liviany Reis Rodrigues",
      "photoUrl": "https://lh3.googleusercontent.com/a/default-user=s64",
      "userId": "13974134542734238498"
     },
     "user_tz": 180
    },
    "id": "dju8hdkjX4c_"
   },
   "outputs": [],
   "source": [
    "prev_prob = risco_saude.predict_proba(x_teste)[:, 1]"
   ]
  },
  {
   "cell_type": "code",
   "execution_count": 44,
   "metadata": {
    "colab": {
     "base_uri": "https://localhost:8080/",
     "height": 302
    },
    "executionInfo": {
     "elapsed": 3437,
     "status": "ok",
     "timestamp": 1638784605185,
     "user": {
      "displayName": "Liviany Reis Rodrigues",
      "photoUrl": "https://lh3.googleusercontent.com/a/default-user=s64",
      "userId": "13974134542734238498"
     },
     "user_tz": 180
    },
    "id": "UYC8vlyoXb47",
    "outputId": "279f5721-2fd0-4b92-9c49-c82d224cb6c4"
   },
   "outputs": [
    {
     "data": {
      "image/png": "[encoded data removed]",
      "text/plain": [
       "<Figure size 432x288 with 1 Axes>"
      ]
     },
     "metadata": {
      "needs_background": "light"
     },
     "output_type": "display_data"
    }
   ],
   "source": [
    "# plot histograma para a probabilidade das 10 previsões\n",
    "# adjust the font size \n",
    "plt.rcParams['font.size'] = 12\n",
    "\n",
    "\n",
    "# plot histograma com 10 bins\n",
    "plt.hist(prev_prob, bins = 80)\n",
    "\n",
    "# set the x-axis limit\n",
    "plt.xlim(0,1)\n",
    "\n",
    "\n",
    "plt.title('Histograma para previsão da probabilidade de possuir problema mental')\n",
    "\n",
    "plt.xlabel('Probabilidade da previsão de Possuir Problema Mental')\n",
    "plt.ylabel('Frequencia')\n",
    "plt.show()"
   ]
  },
  {
   "cell_type": "markdown",
   "metadata": {
    "id": "5KgKlmszZ_dS"
   },
   "source": [
    "7.7 Validação cruzada k-Fold"
   ]
  },
  {
   "cell_type": "code",
   "execution_count": 48,
   "metadata": {
    "colab": {
     "base_uri": "https://localhost:8080/"
    },
    "executionInfo": {
     "elapsed": 197,
     "status": "ok",
     "timestamp": 1638784605212,
     "user": {
      "displayName": "Liviany Reis Rodrigues",
      "photoUrl": "https://lh3.googleusercontent.com/a/default-user=s64",
      "userId": "13974134542734238498"
     },
     "user_tz": 180
    },
    "id": "iwcRKpSFf21t",
    "outputId": "763015e0-b9b1-4368-b32e-484eeab00fa6"
   },
   "outputs": [
    {
     "name": "stdout",
     "output_type": "stream",
     "text": [
      "Pontuação Validação Cruzada:[0.66 0.69 0.75 0.72 0.73 0.7  0.71 0.7  0.72 0.72]\n"
     ]
    }
   ],
   "source": [
    "# Aplicando validação Cruzada - K-Fold\n",
    "\n",
    "from sklearn.model_selection import cross_val_score\n",
    "\n",
    "pont_kfold = cross_val_score(risco_saude, X_treino, y_treino, cv = 10, scoring='accuracy')\n",
    "\n",
    "print('Pontuação Validação Cruzada:{}'.format(pont_kfold))"
   ]
  },
  {
   "cell_type": "code",
   "execution_count": 49,
   "metadata": {
    "colab": {
     "base_uri": "https://localhost:8080/"
    },
    "executionInfo": {
     "elapsed": 183,
     "status": "ok",
     "timestamp": 1638784605219,
     "user": {
      "displayName": "Liviany Reis Rodrigues",
      "photoUrl": "https://lh3.googleusercontent.com/a/default-user=s64",
      "userId": "13974134542734238498"
     },
     "user_tz": 180
    },
    "id": "OKB5vCfjgsxk",
    "outputId": "1191dbc3-80ef-49a0-91cb-79c59d33b625"
   },
   "outputs": [
    {
     "name": "stdout",
     "output_type": "stream",
     "text": [
      "Pontuação média de validação cruzada: 0.7100\n"
     ]
    }
   ],
   "source": [
    "#Pontuação média de validação cruzada\n",
    "\n",
    "print('Pontuação média de validação cruzada: {:.4f}'.format(pont_kfold.mean()))"
   ]
  },
  {
   "cell_type": "markdown",
   "metadata": {
    "id": "EyBFehA3hasu"
   },
   "source": [
    "**Interpretação**\n",
    "\n",
    "Usando a validação cruzada média, podemos concluir que esperamos que o modelo tenha cerca de 71% de precisão em média.\n",
    "\n",
    "Se observarmos todas as 10 pontuações produzidas pela validação cruzada de 10 vezes, também podemos concluir que há uma variação relativamente pequena na precisão entre as dobras, variando de 75% de precisão a 65% de precisão. Assim, podemos concluir que o modelo é independente das dobras particulares usadas para o treinamento.\n",
    "\n",
    "A precisão do nosso modelo original é 0,7490, mas a precisão média da validação cruzada é 71%. Portanto, a precisão da validação cruzada de 10 vezes não resulta em melhoria de desempenho para este modelo."
   ]
  },
  {
   "cell_type": "markdown",
   "metadata": {
    "id": "K5EFN6KdYg39"
   },
   "source": [
    "CURVA ROC UAC"
   ]
  },
  {
   "cell_type": "code",
   "execution_count": 45,
   "metadata": {
    "colab": {
     "base_uri": "https://localhost:8080/",
     "height": 291
    },
    "executionInfo": {
     "elapsed": 225,
     "status": "ok",
     "timestamp": 1638784605194,
     "user": {
      "displayName": "Liviany Reis Rodrigues",
      "photoUrl": "https://lh3.googleusercontent.com/a/default-user=s64",
      "userId": "13974134542734238498"
     },
     "user_tz": 180
    },
    "id": "fLad7qzoI3_G",
    "outputId": "f26ca51b-dffb-4fc6-c55f-720f33ca7ff0"
   },
   "outputs": [
    {
     "data": {
      "image/png": "[encoded data removed]",
      "text/plain": [
       "<Figure size 432x288 with 1 Axes>"
      ]
     },
     "metadata": {
      "needs_background": "light"
     },
     "output_type": "display_data"
    }
   ],
   "source": [
    "# Gráfico da curva roc\n",
    "rfp, rvp,lim = roc_curve(y_teste, prev_prob)\n",
    "plt.plot(rfp, rvp, marker='.',label='Naive Bayes', color=\"orange\")\n",
    "plt.plot([0, 1], [0, 1], color='darkblue', linestyle='--')\n",
    "# alterando o nome dos eixos\n",
    "plt.xlabel('Falso positivo (1 - Especificidade)')\n",
    "plt.ylabel('Verdadeiro Positivo (0 - Sensibilidade)')\n",
    "# Legenda\n",
    "plt.legend()\n",
    "# Mostrando o gráfico\n",
    "plt.show()"
   ]
  },
  {
   "cell_type": "markdown",
   "metadata": {
    "id": "hFA7dSEHJGM-"
   },
   "source": [
    "A curva ROC nos ajuda a escolher um nível de limite que equilibra a sensibilidade e a especificidade para um determinado contexto.\n",
    "\n",
    "ROC AUC\n",
    "ROC AUC significa Receiver Operating Characteristic - Area Under Curve. É uma técnica para comparar o desempenho do classificador. Nesta técnica, medimos a área sob a curva (AUC). Um classificador perfeito terá um ROC AUC igual a 1, enquanto um classificador puramente aleatório terá um ROC AUC igual a 0,5.\n",
    "\n",
    "Portanto, ROC AUC é a porcentagem do gráfico ROC que está abaixo da curva."
   ]
  },
  {
   "cell_type": "code",
   "execution_count": 46,
   "metadata": {
    "colab": {
     "base_uri": "https://localhost:8080/"
    },
    "executionInfo": {
     "elapsed": 220,
     "status": "ok",
     "timestamp": 1638784605198,
     "user": {
      "displayName": "Liviany Reis Rodrigues",
      "photoUrl": "https://lh3.googleusercontent.com/a/default-user=s64",
      "userId": "13974134542734238498"
     },
     "user_tz": 180
    },
    "id": "9KoRuumCJmu-",
    "outputId": "950ce0f4-3a6f-4dcb-fbde-4ff8c70aa141"
   },
   "outputs": [
    {
     "name": "stdout",
     "output_type": "stream",
     "text": [
      "ROC AUC : 0.8022\n"
     ]
    }
   ],
   "source": [
    "ROC_AUC = roc_auc_score(y_teste, prev_prob)\n",
    "\n",
    "print('ROC AUC : {:.4f}'.format(ROC_AUC))"
   ]
  },
  {
   "cell_type": "markdown",
   "metadata": {
    "id": "kM7gTltyJ3_e"
   },
   "source": [
    "Interpretação\n",
    "O ROC AUC é um resumo de número único do desempenho do classificador. Quanto maior o valor, melhor é o classificador.\n",
    "\n",
    "ROC AUC de nosso modelo está acima de 80%. Podemos concluir que nosso classificador faz um bom trabalho em prever se um colaborador possui ou não problema de saúde mental."
   ]
  },
  {
   "cell_type": "code",
   "execution_count": 51,
   "metadata": {
    "colab": {
     "base_uri": "https://localhost:8080/"
    },
    "executionInfo": {
     "elapsed": 1071,
     "status": "ok",
     "timestamp": 1638786963973,
     "user": {
      "displayName": "Liviany Reis Rodrigues",
      "photoUrl": "https://lh3.googleusercontent.com/a/default-user=s64",
      "userId": "13974134542734238498"
     },
     "user_tz": 180
    },
    "id": "Bv-jtrtAKR6i",
    "outputId": "c3dfe78c-f8ec-4a2e-e730-c708055fcbe2"
   },
   "outputs": [
    {
     "name": "stdout",
     "output_type": "stream",
     "text": [
      "Cross validated ROC AUC : 0.7720\n"
     ]
    }
   ],
   "source": [
    "#calcular ROC AUC com validação cruzada\n",
    "Cross_validated_ROC_AUC = cross_val_score(risco_saude, X_treino, y_treino, cv=5, scoring='roc_auc').mean()\n",
    "print('Cross validated ROC AUC : {:.4f}'.format(Cross_validated_ROC_AUC))"
   ]
  },
  {
   "cell_type": "markdown",
   "metadata": {
    "id": "RRMMGhYsge_M"
   },
   "source": [
    "Vamos verificar a precisão da validação cruzada calculando sua média."
   ]
  }
 ],
 "metadata": {
  "colab": {
   "authorship_tag": "ABX9TyOPri0+XBxvtM8B9Ddo5byM",
   "collapsed_sections": [],
   "name": "classificador_naive_bayes.ipynb",
   "provenance": []
  },
  "kernelspec": {
   "display_name": "Python 3",
   "language": "python",
   "name": "python3"
  },
  "language_info": {
   "codemirror_mode": {
    "name": "ipython",
    "version": 3
   },
   "file_extension": ".py",
   "mimetype": "text/x-python",
   "name": "python",
   "nbconvert_exporter": "python",
   "pygments_lexer": "ipython3",
   "version": "3.8.8"
  }
 },
 "nbformat": 4,
 "nbformat_minor": 1
}
